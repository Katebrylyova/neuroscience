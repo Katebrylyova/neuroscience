{
  "nbformat": 4,
  "nbformat_minor": 0,
  "metadata": {
    "colab": {
      "name": "Untitled11.ipynb",
      "provenance": [],
      "collapsed_sections": []
    },
    "kernelspec": {
      "name": "python3",
      "display_name": "Python 3"
    }
  },
  "cells": [
    {
      "cell_type": "markdown",
      "metadata": {
        "id": "bYHHhw3kP7H3"
      },
      "source": [
        "**Реализация модели Курамото**\n",
        "\n",
        "Брылёва Екатерина\n",
        "МБД 191\n"
      ]
    },
    {
      "cell_type": "markdown",
      "metadata": {
        "id": "-IMlSYiVRf9X"
      },
      "source": [
        " **1.Модель Курамото**\n",
        "\n",
        "---\n",
        "\n"
      ]
    },
    {
      "cell_type": "code",
      "metadata": {
        "id": "VNj-p9V_H29K"
      },
      "source": [
        "import numpy as np\n",
        "import seaborn as sns\n",
        "from tqdm import tqdm\n",
        "from copy import deepcopy \n",
        "from scipy.signal import welch\n",
        "from colorsys import hls_to_rgb\n",
        "from joblib import Parallel, delayed, cpu_count\n",
        "import matplotlib.pyplot as plt"
      ],
      "execution_count": 1,
      "outputs": []
    },
    {
      "cell_type": "markdown",
      "metadata": {
        "id": "FDfVgQEoQJwi"
      },
      "source": [
        "1. Необходимо реализовать модель Курамото, состоящию из 500 осцилляторов, где частота задается равномерными значениями в пределах [frequency * 0.75; frequency * 1.25]."
      ]
    },
    {
      "cell_type": "code",
      "metadata": {
        "id": "fLiYlFA3H8jR"
      },
      "source": [
        "class Kuramoto:\n",
        "    def __init__(self, t_k = 60, d_t = 0.01, K = 1.5, N = 500, sigma = 1, freq = 10, simulation_type = \"first\"):\n",
        "        self.K = K #параметр самосинхронии\n",
        "        self.N = N\n",
        "        self.d_t = d_t\n",
        "        self.sigma = sigma\n",
        "        self.T = np.arange(0, t_k, d_t)\n",
        "        self.N_times = len(self.T) \n",
        "        self.initial = np.random.uniform(-np.pi, np.pi, size = self.N)\n",
        "     \n",
        "        if simulation_type==\"second\":\n",
        "            self.W = self.w_second\n",
        "        elif simulation_type==\"first\":\n",
        "            self.W = lambda t: np.random.uniform(0.75*freq, 1.25*freq, size=self.N)\n",
        "        else:\n",
        "            raise Error \n",
        "\n",
        "    #условия для второй симуляции:          \n",
        "                \n",
        "    def w_second(self, t):      \n",
        "        w_frequency = [np.random.uniform(0.75 * fr, 1.25 * fr, size = self.N) for fr in [10, 20, 25, 10]]\n",
        "        return w_frequency[0] * (0 < t <= 15) + w_frequency[1] * (15 < t <= 30) + w_frequency[2] * (30 < t <= 45) + w_frequency[3] * (45 < t <= 60)\n",
        "    \n",
        "    #фаза осциллятора(theta):\n",
        "\n",
        "    def phase(self):      \n",
        "        phase = np.zeros((self.N_times, self.N))\n",
        "        phase[0, :] = self.initial    \n",
        "        for i, j in list(enumerate(self.T))[1:]:          \n",
        "            delta = np.sin(deepcopy(phase[i-1, :]) - phase[i-1, :][np.newaxis, :])\n",
        "            phase[i, :] = phase[i-1, :] + (2 * np.pi * self.W(j) + self.K / self.N * np.sum(delta, axis=1) + np.random.normal(0, self.sigma)) * self.d_t     \n",
        "        return phase\n",
        "    \n",
        "    \n",
        "    def signal_result(self):\n",
        "        phase = self.phase()\n",
        "        phase_signal = np.mean(phase, axis = 1)\n",
        "        res_signal = np.real(np.exp(1j*phase_signal))\n",
        "        res_freq, psd = welch(res_signal, fs=1/self.d_t, scaling=\"spectrum\")\n",
        "        return res_signal, res_freq, psd"
      ],
      "execution_count": 54,
      "outputs": []
    },
    {
      "cell_type": "code",
      "metadata": {
        "id": "GaAqIBnvH-vB"
      },
      "source": [
        "#Функция, возвращающая значения сигналов, частоты симуляций и PSD:\n",
        "def values(input):\n",
        "    f, simulation_type = input\n",
        "    model = Kuramoto(freq = f, simulation_type = simulation_type)\n",
        "    res_signal, res_freq, psd = model.signal_result()\n",
        "    return res_signal, res_freq, psd"
      ],
      "execution_count": 55,
      "outputs": []
    },
    {
      "cell_type": "markdown",
      "metadata": {
        "id": "0Tch-IHNQa6X"
      },
      "source": [
        "2. Используя соответственно параметризованные модели, необходимо симулировать 20 сигналов: 10 с частотой 10Гц, 5 с частотой 15Гц и 5 с частотой 25Гц."
      ]
    },
    {
      "cell_type": "code",
      "metadata": {
        "colab": {
          "base_uri": "https://localhost:8080/"
        },
        "id": "8Jp2jk30IFT3",
        "outputId": "b89d4ea2-2dcc-4bea-8834-6fb81636b0eb"
      },
      "source": [
        "res_freq = [10] * 10 + [15] * 5 + [25] * 5\n",
        "with Parallel(cpu_count()) as pool:\n",
        "    first_simulation = pool(delayed(values)((f, \"first\")) for f in tqdm(res_freq, leave=False))"
      ],
      "execution_count": 57,
      "outputs": [
        {
          "output_type": "stream",
          "text": [
            "\n",
            "\n",
            "  0%|          | 0/20 [00:00<?, ?it/s]\u001b[A\u001b[A\n",
            "\n",
            " 20%|██        | 4/20 [00:00<00:02,  6.67it/s]\u001b[A\u001b[A\n",
            "\n",
            " 30%|███       | 6/20 [00:01<00:02,  5.19it/s]\u001b[A\u001b[A\n",
            "\n",
            " 40%|████      | 8/20 [00:01<00:02,  4.43it/s]\u001b[A\u001b[A\n",
            "\n",
            " 50%|█████     | 10/20 [00:02<00:02,  4.00it/s]\u001b[A\u001b[A\n",
            "\n",
            " 60%|██████    | 12/20 [00:03<00:02,  3.77it/s]\u001b[A\u001b[A\n",
            "\n",
            " 70%|███████   | 14/20 [00:03<00:01,  3.52it/s]\u001b[A\u001b[A\n",
            "\n",
            " 80%|████████  | 16/20 [00:04<00:01,  3.42it/s]\u001b[A\u001b[A\n",
            "\n",
            " 90%|█████████ | 18/20 [00:04<00:00,  3.38it/s]\u001b[A\u001b[A\n",
            "\n",
            "100%|██████████| 20/20 [00:05<00:00,  3.34it/s]\u001b[A\u001b[A\n",
            "\n",
            "                                               \u001b[A\u001b[A"
          ],
          "name": "stderr"
        }
      ]
    },
    {
      "cell_type": "markdown",
      "metadata": {
        "id": "sozVdAxfRYud"
      },
      "source": [
        "3. Используя соответственно параметризованные модели, необходимо симулировать сигнал с частотой 10Гц в промежутке 0-15 секунд, 20Гц в промежутке 15-30 секунд, 25Гц в 30-45 секунд и 10Гц в промежутке 45-60 секунд. Для получения устойчивых оценок, просимулируйте сигнал несколько раз. Например, возьмем 70 раз."
      ]
    },
    {
      "cell_type": "code",
      "metadata": {
        "colab": {
          "base_uri": "https://localhost:8080/"
        },
        "id": "lF7FWplKSxvX",
        "outputId": "a34d373f-e443-42b9-94c0-54198500cc5c"
      },
      "source": [
        "N_simulations = 70\n",
        "with Parallel(cpu_count()) as pool:\n",
        "    second_simulation = pool(delayed(values)((10, \"second\")) for f in tqdm(range(N_simulations), leave=False))"
      ],
      "execution_count": 58,
      "outputs": [
        {
          "output_type": "stream",
          "text": [
            "\n",
            "\n",
            "  0%|          | 0/70 [00:00<?, ?it/s]\u001b[A\u001b[A\n",
            "\n",
            "  6%|▌         | 4/70 [00:01<00:19,  3.33it/s]\u001b[A\u001b[A\n",
            "\n",
            "  9%|▊         | 6/70 [00:02<00:24,  2.58it/s]\u001b[A\u001b[A\n",
            "\n",
            " 11%|█▏        | 8/70 [00:03<00:27,  2.24it/s]\u001b[A\u001b[A\n",
            "\n",
            " 14%|█▍        | 10/70 [00:04<00:29,  2.06it/s]\u001b[A\u001b[A\n",
            "\n",
            " 17%|█▋        | 12/70 [00:05<00:30,  1.93it/s]\u001b[A\u001b[A\n",
            "\n",
            " 20%|██        | 14/70 [00:07<00:30,  1.86it/s]\u001b[A\u001b[A\n",
            "\n",
            " 23%|██▎       | 16/70 [00:08<00:30,  1.79it/s]\u001b[A\u001b[A\n",
            "\n",
            " 26%|██▌       | 18/70 [00:09<00:29,  1.76it/s]\u001b[A\u001b[A\n",
            "\n",
            " 29%|██▊       | 20/70 [00:10<00:28,  1.74it/s]\u001b[A\u001b[A\n",
            "\n",
            " 31%|███▏      | 22/70 [00:11<00:27,  1.73it/s]\u001b[A\u001b[A\n",
            "\n",
            " 34%|███▍      | 24/70 [00:12<00:26,  1.73it/s]\u001b[A\u001b[A\n",
            "\n",
            " 37%|███▋      | 26/70 [00:14<00:25,  1.72it/s]\u001b[A\u001b[A\n",
            "\n",
            " 40%|████      | 28/70 [00:15<00:24,  1.71it/s]\u001b[A\u001b[A\n",
            "\n",
            " 43%|████▎     | 30/70 [00:16<00:23,  1.70it/s]\u001b[A\u001b[A\n",
            "\n",
            " 46%|████▌     | 32/70 [00:17<00:22,  1.71it/s]\u001b[A\u001b[A\n",
            "\n",
            " 49%|████▊     | 34/70 [00:18<00:21,  1.71it/s]\u001b[A\u001b[A\n",
            "\n",
            " 51%|█████▏    | 36/70 [00:20<00:20,  1.70it/s]\u001b[A\u001b[A\n",
            "\n",
            " 54%|█████▍    | 38/70 [00:21<00:18,  1.69it/s]\u001b[A\u001b[A\n",
            "\n",
            " 57%|█████▋    | 40/70 [00:22<00:17,  1.69it/s]\u001b[A\u001b[A\n",
            "\n",
            " 60%|██████    | 42/70 [00:23<00:16,  1.69it/s]\u001b[A\u001b[A\n",
            "\n",
            " 63%|██████▎   | 44/70 [00:24<00:15,  1.70it/s]\u001b[A\u001b[A\n",
            "\n",
            " 66%|██████▌   | 46/70 [00:25<00:14,  1.70it/s]\u001b[A\u001b[A\n",
            "\n",
            " 69%|██████▊   | 48/70 [00:27<00:12,  1.71it/s]\u001b[A\u001b[A\n",
            "\n",
            " 71%|███████▏  | 50/70 [00:28<00:11,  1.70it/s]\u001b[A\u001b[A\n",
            "\n",
            " 74%|███████▍  | 52/70 [00:29<00:10,  1.69it/s]\u001b[A\u001b[A\n",
            "\n",
            " 77%|███████▋  | 54/70 [00:30<00:09,  1.67it/s]\u001b[A\u001b[A\n",
            "\n",
            " 80%|████████  | 56/70 [00:31<00:08,  1.68it/s]\u001b[A\u001b[A\n",
            "\n",
            " 83%|████████▎ | 58/70 [00:33<00:07,  1.68it/s]\u001b[A\u001b[A\n",
            "\n",
            " 86%|████████▌ | 60/70 [00:34<00:05,  1.69it/s]\u001b[A\u001b[A\n",
            "\n",
            " 89%|████████▊ | 62/70 [00:35<00:04,  1.69it/s]\u001b[A\u001b[A\n",
            "\n",
            " 91%|█████████▏| 64/70 [00:36<00:03,  1.70it/s]\u001b[A\u001b[A\n",
            "\n",
            " 94%|█████████▍| 66/70 [00:37<00:02,  1.70it/s]\u001b[A\u001b[A\n",
            "\n",
            " 97%|█████████▋| 68/70 [00:38<00:01,  1.69it/s]\u001b[A\u001b[A\n",
            "\n",
            "100%|██████████| 70/70 [00:40<00:00,  1.69it/s]\u001b[A\u001b[A\n",
            "\n",
            "                                               \u001b[A\u001b[A"
          ],
          "name": "stderr"
        }
      ]
    },
    {
      "cell_type": "markdown",
      "metadata": {
        "id": "-qVxUf_iRvWl"
      },
      "source": [
        "**2. Анализ**\n",
        "\n",
        "---\n",
        "\n"
      ]
    },
    {
      "cell_type": "markdown",
      "metadata": {
        "id": "Bc5WnaumR-tW"
      },
      "source": [
        "1. Посчитайте и нарисуйте Power Spectrum Density для обоих сигналов. "
      ]
    },
    {
      "cell_type": "code",
      "metadata": {
        "id": "AMZyUkq-vYME"
      },
      "source": [
        "def plot_psd(res_freq, res_psd, fs=16):\n",
        "    plt.figure(figsize=(10, 5))\n",
        "    plt.semilogy(res_freq, res_psd)\n",
        "    plt.title('PSD')\n",
        "    plt.xlabel('Frequency')\n",
        "    plt.ylabel('PSD')"
      ],
      "execution_count": 66,
      "outputs": []
    },
    {
      "cell_type": "code",
      "metadata": {
        "colab": {
          "base_uri": "https://localhost:8080/",
          "height": 349
        },
        "id": "9Gn75fQ_xspu",
        "outputId": "f2c9f94d-51b9-4935-9c3c-ff2d7a1b5414"
      },
      "source": [
        "#Симуляция_1.2\n",
        "plot_psd(np.mean([x[1] for x in first_simulation], axis=0), np.mean([x[2] for x in first_simulation], axis=0))    "
      ],
      "execution_count": 67,
      "outputs": [
        {
          "output_type": "display_data",
          "data": {
            "image/png": "[encoded data removed]",
            "text/plain": [
              "<Figure size 720x360 with 1 Axes>"
            ]
          },
          "metadata": {
            "tags": [],
            "needs_background": "light"
          }
        }
      ]
    },
    {
      "cell_type": "markdown",
      "metadata": {
        "id": "sg7QCI0E9Jrg"
      },
      "source": [
        "Вывод: на графике видны три пика подачи сигналов на частотах 10,15 и 25."
      ]
    },
    {
      "cell_type": "code",
      "metadata": {
        "colab": {
          "base_uri": "https://localhost:8080/",
          "height": 349
        },
        "id": "7pe7QWW6xYFD",
        "outputId": "06007452-e6b2-48c8-9b1c-b5a98bdc47ab"
      },
      "source": [
        "#Симуляция_1.3\n",
        "plot_psd(np.mean([x[1] for x in second_simulation], axis=0), np.mean([x[2] for x in second_simulation], axis=0))    "
      ],
      "execution_count": 65,
      "outputs": [
        {
          "output_type": "display_data",
          "data": {
            "image/png": "[encoded data removed]",
            "text/plain": [
              "<Figure size 720x360 with 1 Axes>"
            ]
          },
          "metadata": {
            "tags": [],
            "needs_background": "light"
          }
        }
      ]
    },
    {
      "cell_type": "markdown",
      "metadata": {
        "id": "vMRtrhf8-OGz"
      },
      "source": [
        "Вывод: на графике также видны три пика подачи сигналов на частотах 10,15 и 25."
      ]
    },
    {
      "cell_type": "markdown",
      "metadata": {
        "id": "5eZP7DPvSKkV"
      },
      "source": [
        "2. Посчитайте фазовую синхронию полученных сигналов, используя PLV."
      ]
    },
    {
      "cell_type": "code",
      "metadata": {
        "id": "8vX8SVYfTSa_"
      },
      "source": [
        "def phases_syn(info):\n",
        "    f, simulation_type = info\n",
        "    model = Kuramoto(freq = f, simulation_type = simulation_type)\n",
        "    phases_syn = model.phase()\n",
        "    return phases_syn"
      ],
      "execution_count": 70,
      "outputs": []
    },
    {
      "cell_type": "code",
      "metadata": {
        "colab": {
          "base_uri": "https://localhost:8080/"
        },
        "id": "hUOX81AJTYaK",
        "outputId": "82e73259-bae2-40ae-caa7-5f14fe0eeb94"
      },
      "source": [
        "with Parallel(cpu_count()) as pool:\n",
        "    res_phase = pool(delayed(phases_syn)((f, \"first\")) for f in tqdm(res_freq, leave=False))"
      ],
      "execution_count": 72,
      "outputs": [
        {
          "output_type": "stream",
          "text": [
            "\n",
            "\n",
            "\n",
            "  0%|          | 0/20 [00:00<?, ?it/s]\u001b[A\u001b[A\u001b[A\n",
            "\n",
            "\n",
            " 20%|██        | 4/20 [00:00<00:03,  4.72it/s]\u001b[A\u001b[A\u001b[A\n",
            "\n",
            "\n",
            " 30%|███       | 6/20 [00:01<00:03,  3.98it/s]\u001b[A\u001b[A\u001b[A\n",
            "\n",
            "\n",
            " 40%|████      | 8/20 [00:02<00:03,  3.52it/s]\u001b[A\u001b[A\u001b[A\n",
            "\n",
            "\n",
            " 50%|█████     | 10/20 [00:03<00:03,  3.18it/s]\u001b[A\u001b[A\u001b[A\n",
            "\n",
            "\n",
            " 60%|██████    | 12/20 [00:03<00:02,  2.97it/s]\u001b[A\u001b[A\u001b[A\n",
            "\n",
            "\n",
            " 70%|███████   | 14/20 [00:04<00:02,  2.89it/s]\u001b[A\u001b[A\u001b[A\n",
            "\n",
            "\n",
            " 80%|████████  | 16/20 [00:05<00:01,  2.89it/s]\u001b[A\u001b[A\u001b[A\n",
            "\n",
            "\n",
            " 90%|█████████ | 18/20 [00:06<00:00,  2.78it/s]\u001b[A\u001b[A\u001b[A\n",
            "\n",
            "\n",
            "100%|██████████| 20/20 [00:06<00:00,  2.74it/s]\u001b[A\u001b[A\u001b[A\n",
            "\n",
            "\n",
            "                                               \u001b[A\u001b[A\u001b[A"
          ],
          "name": "stderr"
        }
      ]
    },
    {
      "cell_type": "code",
      "metadata": {
        "colab": {
          "base_uri": "https://localhost:8080/",
          "height": 609
        },
        "id": "U6NWHUXETbSW",
        "outputId": "89b2874d-ad8f-4b9b-a961-34b138340d41"
      },
      "source": [
        "x = np.exp(1j * np.stack(res_phase, axis=0))\n",
        "x = np.mean(x, axis=-1)\n",
        "y = np.conj(x)\n",
        "x /= np.abs(x)\n",
        "y /= np.abs(y)\n",
        "phases = np.abs((x @ y.T) / x.shape[1])\n",
        "\n",
        "fig_phases = plt.figure(figsize=(10, 10))\n",
        "ax = fig_phases.add_subplot(1, 1, 1)\n",
        "sns.heatmap(phases, cmap = 'gist_earth', ax=ax)\n",
        "ax.set_xlabel('Signals')\n",
        "ax.set_ylabel('Signals')\n",
        "plt.show()"
      ],
      "execution_count": 83,
      "outputs": [
        {
          "output_type": "display_data",
          "data": {
            "image/png": "[encoded data removed]",
            "text/plain": [
              "<Figure size 720x720 with 2 Axes>"
            ]
          },
          "metadata": {
            "tags": [],
            "needs_background": "light"
          }
        }
      ]
    },
    {
      "cell_type": "markdown",
      "metadata": {
        "id": "kWYQuUms-iQP"
      },
      "source": [
        "Вывод: судя по трем квадратам разной цветовой гаммы, можно сделать вывод о том, что сигналы каждой частоты соответствуют каждому квадрату. Квадрат 10 на 10 включает 10 сигналов с чатотой 10Гц, два квадрата 5 на 5 соответствуют 5 сигналам с частотой 15Гц и 5 сигналам с частотой 25Гц. Так как эти квадраты ярче, чем другие области, значит, фазы сигналов с одинаковой частотой в каждом квадрате более схожи и имеют меньшую разницу. чем фазы сигналов с разными частотами."
      ]
    },
    {
      "cell_type": "markdown",
      "metadata": {
        "id": "aZwBVfO8SVGs"
      },
      "source": [
        "3. Для данных из задания 1.3 посчитайте PSD по времени. Для этого побейте сигнал на окна равной длины, посчитайте PSD в них и отобразите как heatmap."
      ]
    },
    {
      "cell_type": "code",
      "metadata": {
        "colab": {
          "base_uri": "https://localhost:8080/",
          "height": 630
        },
        "id": "lm42R_YdTgcU",
        "outputId": "f97dc562-6da8-4e2f-92a9-156472949caf"
      },
      "source": [
        "signal_PSD = np.mean([x[0] for x in second_simulation], axis=0)\n",
        "split_signal = np.split(signal_PSD, len(signal)/50) #разбиваем \n",
        "hmap = np.array([welch(i, fs=int(1/0.01), nperseg=len(i))[1] for i in split]).T\n",
        "\n",
        "plt.figure(figsize=(15, 7), dpi=100)\n",
        "sns.heatmap(hmap, cmap=\"RdBu\")\n",
        "plt.xlabel('Time')\n",
        "plt.ylabel('Frequency')\n",
        "plt.ylim(0,50)\n",
        "plt.xlim(0,60)"
      ],
      "execution_count": 102,
      "outputs": [
        {
          "output_type": "execute_result",
          "data": {
            "text/plain": [
              "(0.0, 60.0)"
            ]
          },
          "metadata": {
            "tags": []
          },
          "execution_count": 102
        },
        {
          "output_type": "display_data",
          "data": {
            "image/png": "[encoded data removed]",
            "text/plain": [
              "<Figure size 1500x700 with 2 Axes>"
            ]
          },
          "metadata": {
            "tags": [],
            "needs_background": "light"
          }
        }
      ]
    },
    {
      "cell_type": "markdown",
      "metadata": {
        "id": "p9YCZupfA5jZ"
      },
      "source": [
        "Вывод: На данном heatmap изображении второй симуляции видно, в каком порядке подавались сигналы. По горизонтали наблюдаем продолжительность сигнала, по вертикали частоту."
      ]
    },
    {
      "cell_type": "markdown",
      "metadata": {
        "id": "i4VUtYiaT8ve"
      },
      "source": [
        "**3. Результат**\n",
        "\n",
        "---\n",
        "\n"
      ]
    },
    {
      "cell_type": "markdown",
      "metadata": {
        "id": "FQEyIw8G7loK"
      },
      "source": [
        "Выводы представлены под каждым графиком."
      ]
    }
  ]
}