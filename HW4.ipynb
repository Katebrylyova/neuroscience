{
  "nbformat": 4,
  "nbformat_minor": 0,
  "metadata": {
    "colab": {
      "name": "HW4.ipynb",
      "provenance": []
    },
    "kernelspec": {
      "name": "python3",
      "display_name": "Python 3"
    }
  },
  "cells": [
    {
      "cell_type": "markdown",
      "metadata": {
        "id": "M2Bvfq-Ddcux"
      },
      "source": [
        "# Homework 4. SNN model"
      ]
    },
    {
      "cell_type": "code",
      "metadata": {
        "id": "o1-UdCH5KkT1"
      },
      "source": [
        "import numpy as np\r\n",
        "import matplotlib.pyplot as plt"
      ],
      "execution_count": 24,
      "outputs": []
    },
    {
      "cell_type": "markdown",
      "metadata": {
        "id": "rZMJL-WGdlrJ"
      },
      "source": [
        "*1. Реализовать модель импульсной нейронной сети*"
      ]
    },
    {
      "cell_type": "code",
      "metadata": {
        "id": "Bt0ZP969Lr_s"
      },
      "source": [
        "nu = 1 # the threshold\r\n",
        "tau = 1 #time constant\r\n",
        "tau_s = 1 #time constant\r\n",
        "u_spike = 1\r\n",
        "#d_ijax describes the axonal transmission delay"
      ],
      "execution_count": 19,
      "outputs": []
    },
    {
      "cell_type": "code",
      "metadata": {
        "id": "fjBXbL7aLxzA"
      },
      "source": [
        "def eta(s):\r\n",
        "    return -nu * np.exp(-s / tau) * (1 if s > 0 else 0)\r\n",
        "def epsilon(s, d_ijax):\r\n",
        "    return (s - d_ijax) / tau_s * np.exp(-(s - d_ijax) / tau_s) * (1 if s - d_ijax > 0 else 0)    "
      ],
      "execution_count": 20,
      "outputs": []
    },
    {
      "cell_type": "code",
      "metadata": {
        "id": "7-dEjR8MLeIp"
      },
      "source": [
        "def plot(xs, ys, color, label, xlabel, ylabel):\r\n",
        "    plt.plot(xs, ys, color, label=label)\r\n",
        "    plt.xlabel(xlabel)\r\n",
        "    plt.ylabel(ylabel)\r\n",
        "    plt.legend(loc='best')"
      ],
      "execution_count": 21,
      "outputs": []
    },
    {
      "cell_type": "code",
      "metadata": {
        "id": "KOG_cBCcMCK2"
      },
      "source": [
        "class SRM:\r\n",
        "    def __init__(self, in_neurons, hid_neurons1, hid_neurons2, out_neurons):\r\n",
        "        self.in_neurons = in_neurons\r\n",
        "        self.hid_neurons1 = hid_neurons1\r\n",
        "        self.hid_neurons2 = hid_neurons2\r\n",
        "        self.out_neurons = out_neurons\r\n",
        "\r\n",
        "        self.u1 = np.zeros((1000, hid_neurons1))\r\n",
        "        self.u2 = np.zeros((1000, hid_neurons2))\r\n",
        "        self.u3 = np.zeros((1000, out_neurons))\r\n",
        "\r\n",
        "        self.syn_cnt1 = np.random.randint(low=1, high=6, size=(in_neurons, hid_neurons1))\r\n",
        "        self.syn_cnt2 = np.random.randint(low=1, high=6, size=(hid_neurons1, hid_neurons2))\r\n",
        "        self.syn_cnt3 = np.random.randint(low=1, high=6, size=(hid_neurons2, out_neurons)) \r\n",
        "\r\n",
        "        self.w1 = np.random.random((in_neurons, hid_neurons1))\r\n",
        "        self.w2 = np.random.random((hid_neurons1, hid_neurons2))\r\n",
        "        self.w3 = np.random.random((hid_neurons2, out_neurons))\r\n",
        "\r\n",
        "        self.d1 = np.random.randint(low=1, high=8, size=(in_neurons, hid_neurons1))\r\n",
        "        self.d2 = np.random.randint(low=1, high=8, size=(hid_neurons1, hid_neurons2))\r\n",
        "        self.d3 = np.random.randint(low=1, high=8, size=(hid_neurons2, out_neurons))\r\n",
        "\r\n",
        "        self.prev_t0 = np.zeros(in_neurons)\r\n",
        "        self.prev_t1 = np.zeros(hid_neurons1)\r\n",
        "        self.prev_t2 = np.zeros(hid_neurons2)\r\n",
        "        self.prev_t3 = np.zeros(out_neurons)\r\n",
        "\r\n",
        "    def model(self, input_layer, t):\r\n",
        "        for i in range(in_neurons):\r\n",
        "            if input_layer[i] == 1:\r\n",
        "                self.prev_t0[i] = t\r\n",
        "\r\n",
        "        for i in range(hid_neurons1):\r\n",
        "            self.u1[t, i] = eta(t - self.prev_t1[i])\r\n",
        "            for j in range(in_neurons):\r\n",
        "                self.u1[t, i] += self.w1[j, i] * epsilon(t - self.prev_t0[j] - self.d1[j, i], self.d1[j, i])\r\n",
        "            if self.u1[t, i] > u_spike:\r\n",
        "                self.prev_t1[i] = t\r\n",
        "\r\n",
        "        for i in range(hid_neurons2):\r\n",
        "            self.u2[t, i] = eta(t - self.prev_t2[i])\r\n",
        "            for j in range(hid_neurons1):\r\n",
        "                self.u2[t, i] += self.w2[j, i] * epsilon(t - self.prev_t1[j] - self.d2[j, i], self.d2[j, i])\r\n",
        "            if self.u2[t, i] > u_spike:\r\n",
        "                self.prev_t2[i] = t\r\n",
        "\r\n",
        "        for i in range(out_neurons):\r\n",
        "            self.u3[i] = eta(t - self.prev_t3[i])\r\n",
        "            for j in range(hid_neurons2):\r\n",
        "                self.u3[t, i] += self.w3[j, i] * epsilon(t - self.prev_t2[j] - self.d3[j, i], self.d3[j, i])\r\n",
        "            if self.u3[t, i] > u_spike:\r\n",
        "                self.prev_t3[i] = t\r\n",
        "\r\n",
        "    def visualize_u(self, maxT, text=\"\"):\r\n",
        "        tim = np.arange(maxT)\r\n",
        "        for i in range(out_neurons):\r\n",
        "            plot(tim, self.u1[:maxT, i], 'g', 'u(t)', 'time', 'u')\r\n",
        "            plt.close()\r\n",
        "\r\n",
        "        for i in range(out_neurons):\r\n",
        "            plot(tim, self.u2[:maxT, i], 'g', 'u(t)', 'time', 'u')\r\n",
        "            plt.close()\r\n",
        "\r\n",
        "\r\n",
        "if __name__ == \"__main__\":\r\n",
        "    path = \"data\"\r\n",
        "    lam = 25\r\n",
        "    for it in range(2):\r\n",
        "        in_neurons = 30\r\n",
        "        out_neurons = 2\r\n",
        "\r\n",
        "        hid_neurons1 = 20\r\n",
        "        hid_neurons2 = 10\r\n",
        "\r\n",
        "        T = 100\r\n",
        "        input_pattern = np.zeros((T, in_neurons))\r\n",
        "        for i in range(in_neurons):\r\n",
        "            j = -1\r\n",
        "            while j < T:\r\n",
        "                j += np.random.poisson(lam, 1)\r\n",
        "                if j >= T:\r\n",
        "                    break\r\n",
        "                input_pattern[j, i] = 1\r\n",
        "\r\n",
        "        model_snn1 = SRM(in_neurons, 20, 10, 2)\r\n",
        "        epoch_cnt = 5\r\n",
        "        for epoch in range(epoch_cnt):\r\n",
        "            for tt in range(T):\r\n",
        "                model_snn1.model(input_pattern[tt], epoch * T + tt)\r\n",
        "\r\n",
        "        model_snn1.visualize_u(T * epoch_cnt, text=\"_\")\r\n"
      ],
      "execution_count": 28,
      "outputs": []
    }
  ]
}