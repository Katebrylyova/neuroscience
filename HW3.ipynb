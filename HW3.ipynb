{
  "nbformat": 4,
  "nbformat_minor": 0,
  "metadata": {
    "colab": {
      "name": "Untitled8.ipynb",
      "provenance": [],
      "collapsed_sections": []
    },
    "kernelspec": {
      "name": "python3",
      "display_name": "Python 3"
    }
  },
  "cells": [
    {
      "cell_type": "markdown",
      "metadata": {
        "id": "K-If6YJYb3Kl"
      },
      "source": [
        "**Домашняя работа №3**\n",
        "\n",
        "Брылёва Екатерина МБД191"
      ]
    },
    {
      "cell_type": "code",
      "metadata": {
        "id": "RDjO3bdbPYE3"
      },
      "source": [
        "import numpy as np\n",
        "import matplotlib.pyplot as plt\n",
        "import seaborn as sns\n",
        "import warnings\n",
        "warnings.filterwarnings(\"ignore\")\n",
        "from scipy.integrate import odeint\n",
        "from mpl_toolkits import mplot3d"
      ],
      "execution_count": 56,
      "outputs": []
    },
    {
      "cell_type": "markdown",
      "metadata": {
        "id": "ucL83m_iTHKc"
      },
      "source": [
        "**1. Химический Ходжкин-Хаксли**\n",
        "\n",
        "---\n",
        "\n"
      ]
    },
    {
      "cell_type": "markdown",
      "metadata": {
        "id": "Hf0ffGytTTFU"
      },
      "source": [
        "1.1 Нейроны"
      ]
    },
    {
      "cell_type": "markdown",
      "metadata": {
        "id": "1OCopufA2tqO"
      },
      "source": [
        "Даны три нейрона: A, B, C.\n",
        "\n",
        "Нейрон A: тормозящий GABA, нейрон B: возбуждабщий Glu, нейрон C: пирамидный. Состояние нейрона C полностью зависит от работы синапсов Sac, Sbc. \n",
        "\n",
        "Природа спайкинговой активности нейрона A - вероятностная(распр. - пуассоновское). Природа спайкинговой активности нейрона B - вероятностная(распр. - равномерное).\n",
        "\n",
        "Модель нейрона C - модель Ходжкина-Хаксли."
      ]
    },
    {
      "cell_type": "markdown",
      "metadata": {
        "id": "wF0xwZXGTX_6"
      },
      "source": [
        "1.2 Синапсы"
      ]
    },
    {
      "cell_type": "markdown",
      "metadata": {
        "id": "aO_Aoc5DVXQc"
      },
      "source": [
        "Каждый синапс оперирует следующими величинами:\n",
        "\n",
        " - количество поступающего нейромедиатора Lincoming от пресинаптического нейрона (в молях)\n",
        " - количество убывающего нейромедиатора Loutcoming из синапса (в молях)\n",
        " - объем синапса V\n",
        " - количество рецепторов Rsac на постсинаптической мембране в синапсе Sac и количество рецепторов Rsbc на постсинаптической мембране в синапсе Sbc"
      ]
    },
    {
      "cell_type": "code",
      "metadata": {
        "id": "ZbGNAdt6WclE"
      },
      "source": [
        "Lincoming_A = 3\n",
        "Lincoming_B = 3\n",
        "NA = 1 #количество рецепторов в синапсе Sac\n",
        "VA = 5 #объем синапса Sac\n",
        "NB = 1 #количество рецепторов в синапсе Sbc\n",
        "VB = 5 #объем синапса Sbc\n",
        "Loutcoming_A = 2\n",
        "Loutcoming_B = 2"
      ],
      "execution_count": null,
      "outputs": []
    },
    {
      "cell_type": "markdown",
      "metadata": {
        "id": "tREf5fz1TbZB"
      },
      "source": [
        "1.3 Рецепторы"
      ]
    },
    {
      "cell_type": "markdown",
      "metadata": {
        "id": "P3k2qYAy3-lc"
      },
      "source": [
        "Используются рецепторы к глутамату AMPA(проводящие Na+) и рецепторы к гамма-аминомаслянной кислоте GABAa(проводящие Cl-). Вероятность открытия рецептора эквивалентна вероятности связывания рецептора с лигандом. "
      ]
    },
    {
      "cell_type": "markdown",
      "metadata": {
        "id": "j4US9WUqTha7"
      },
      "source": [
        "1.4 Константы"
      ]
    },
    {
      "cell_type": "code",
      "metadata": {
        "id": "ydqKvlP-1q8c"
      },
      "source": [
        "# Равновесный потенциал ионного канала калия (mS/mm^2)\n",
        "gK = 0.36\n",
        "# Равновесный потенциал ионного канала натрия (mS/mm^2)\n",
        "gNa = 1.2\n",
        "# Равновесный потенциал ионного канала утечки (mS/mm^2)\n",
        "gL = 0.003\n",
        "# Емкость мембраны (nF/mm^2)\n",
        "Cm = 10.0\n",
        "# Калиевый потенциал мембраны клетки (mV)\n",
        "EK = -77.0\n",
        "# Натриевый потенциал мембраны клетки (mV)\n",
        "ENa = 55.0\n",
        "# Хлорный потенциал мембраны клетки (mV)\n",
        "ECl = -65.0\n",
        "# Потенциал утечки мембраны клетки (mV)\n",
        "El = - 54.402\n",
        "# Начальный потенциал мембраны клетки\n",
        "V0 = -65.0"
      ],
      "execution_count": 57,
      "outputs": []
    },
    {
      "cell_type": "code",
      "metadata": {
        "id": "3JUFBaooISt8"
      },
      "source": [
        "KB = 500\n",
        "KA = 128\n",
        "gam_B = 10 #константа проводимости рецептора Sbc\n",
        "gam_A = 8 #константа проводимости рецептора Sac"
      ],
      "execution_count": 58,
      "outputs": []
    },
    {
      "cell_type": "markdown",
      "metadata": {
        "id": "Y6tQ2wIiYHph"
      },
      "source": [
        "Модель Ходжкина-Хаксли"
      ]
    },
    {
      "cell_type": "markdown",
      "metadata": {
        "id": "A7F4Ayqb5S8p"
      },
      "source": [
        "Уравнения для расчета активационных (n и m) и инактивационных (h) переменных каналов"
      ]
    },
    {
      "cell_type": "code",
      "metadata": {
        "id": "p-UbL-Ov5Kri"
      },
      "source": [
        "# Функции для ионного канала калия\n",
        "\n",
        "def alpha_n(Vm):\n",
        "    return (0.01 * (Vm + 55.0)) / (1.0 - np.exp( - 0.1 * (Vm + 55.0)))\n",
        "\n",
        "def beta_n(Vm):\n",
        "    return 0.125 * np.exp(- 0.0125 * (Vm + 65.0))"
      ],
      "execution_count": 59,
      "outputs": []
    },
    {
      "cell_type": "code",
      "metadata": {
        "id": "jROq89Bx5N6F"
      },
      "source": [
        "# Функции для ионного канала натрия\n",
        "\n",
        "def alpha_m(Vm):\n",
        "    return (0.1 * (Vm + 40.0)) / (1.0 - (np.exp( -0.1 * (Vm + 40))))\n",
        "\n",
        "def beta_m(Vm):\n",
        "    return 4.0 * np.exp(- 0.0556 * (Vm + 65.0))\n",
        "\n",
        "def alpha_h(Vm):\n",
        "    return 0.07 * np.exp(- 0.05 * (Vm + 65.0))\n",
        "\n",
        "def beta_h(Vm):\n",
        "    return 1.0 / (np.exp( - 0.1 * (Vm + 35.0)) + 1.0)"
      ],
      "execution_count": 60,
      "outputs": []
    },
    {
      "cell_type": "markdown",
      "metadata": {
        "id": "o2SOhMAW5WmD"
      },
      "source": [
        "Уравнения для расчета переменных n, m и h"
      ]
    },
    {
      "cell_type": "code",
      "metadata": {
        "id": "PA1KCGYX5Y26"
      },
      "source": [
        "def n_inf(Vm=V0):\n",
        "    return alpha_n(Vm) / (alpha_n(Vm) + beta_n(Vm))\n",
        "\n",
        "def m_inf(Vm=V0):\n",
        "    return alpha_m(Vm) / (alpha_m(Vm) + beta_m(Vm))\n",
        "\n",
        "def h_inf(Vm=V0):\n",
        "    return alpha_h(Vm) / (alpha_h(Vm) + beta_h(Vm))"
      ],
      "execution_count": 61,
      "outputs": []
    },
    {
      "cell_type": "markdown",
      "metadata": {
        "id": "ANckETUt5ylK"
      },
      "source": [
        "Считаем производные модели"
      ]
    },
    {
      "cell_type": "code",
      "metadata": {
        "id": "UOFNlXrqkC_a"
      },
      "source": [
        "def derivatives(y, t0):\n",
        "    dy = np.zeros((4,))\n",
        "    \n",
        "    Vm = y[0]\n",
        "    n = y[1]\n",
        "    m = y[2]\n",
        "    h = y[3]\n",
        "    \n",
        "    GL = (gL / Cm * 1000)\n",
        "    GK = (gK / Cm * 1000) * np.power(n, 4.0)\n",
        "    GNa = (gNa / Cm * 1000) * np.power(m, 3.0) * h\n",
        "\n",
        "    #Движущая сила:\n",
        "    Vdf_A = Vm - ECl #формула 2\n",
        "    Vdf_B = Vm - ENa #формула 2\n",
        "\n",
        "    #Вероятность открытия рецептора:\n",
        "    Pbound_A = (1 / (1 + KA * VA / (L(t0, \"A\")))) #формула 3\n",
        "    Pbound_B = (1 / (1 + KB * VB / (L(t0, \"B\")))) #формула 3\n",
        "\n",
        "    #Ток в синапсе:\n",
        "    Lsynaptic_A = NA * Pbound_A * Vdf_A * gam_A #формула 1\n",
        "    Lsynaptic_B = NB * Pbound_B * Vdf_B * gam_B #формула 1\n",
        "\n",
        "    dy[0] =  (Lsynaptic_A + Lsynaptic_B) / Cm * 10 - (GK * (Vm - EK)) - (GNa * (Vm - ENa))\n",
        "    \n",
        "    dy[1] = (alpha_n(Vm) * (1.0 - n)) - (beta_n(Vm) * n)\n",
        "    \n",
        "    dy[2] = (alpha_m(Vm) * (1.0 - m)) - (beta_m(Vm) * m)\n",
        "    \n",
        "    dy[3] = (alpha_h(Vm) * (1.0 - h)) - (beta_h(Vm) * h)\n",
        "    \n",
        "    \n",
        "    return dy"
      ],
      "execution_count": 70,
      "outputs": []
    },
    {
      "cell_type": "code",
      "metadata": {
        "id": "BgA3mFUT55vo"
      },
      "source": [
        "Y = np.array([V0, n_inf(), m_inf(), h_inf()])"
      ],
      "execution_count": 71,
      "outputs": []
    },
    {
      "cell_type": "markdown",
      "metadata": {
        "id": "S7J2B4mzTkM6"
      },
      "source": [
        "**2. Задание**\n",
        "\n",
        "---\n",
        "\n"
      ]
    },
    {
      "cell_type": "markdown",
      "metadata": {
        "id": "qtkAkYzBTvtM"
      },
      "source": [
        "В модели Ходжкина-Хаксли заменить компоненту утечки на сумму токов из возбуждающего и тормозящего синапсов. Балансировать следующие величины: объем синапса, количество поступающего и убывающего нейромедиатора, количество рецепторов в синапсе, форму распределений вероятностей. Если пирамидный нейрон будет спайкаться более 20 секунд подряд с частотой 10 Гц, он погибнет. Если частота спайков превысит 16 Гц на протяжении более 5 секунд, пирамидный нейрон не выживет.\n",
        "\n",
        "---\n",
        "1. Котенок должен выжить.\n",
        "2. добиться устойчивой картины активности пирамидного нейрона(спайки не реже 1 раза в 500 мс).\n",
        "3. Добиться бёрстинговой активности нейрона (частота не менее 10Гц) не менее 5 раз за время эксперимента.\n",
        "4. Добиться бёрстинговой активности нейрона (частота не менее 15Гц) не менее 3 раз за время эксперимента.\n"
      ]
    },
    {
      "cell_type": "code",
      "metadata": {
        "id": "SRsC58gZd3uY"
      },
      "source": [
        "def L(t0, syn):\n",
        "  if syn == \"A\":\n",
        "    return L_A_d.get(float(t0))\n",
        "  elif syn == \"B\":\n",
        "    return L_B_d.get(float(t0))"
      ],
      "execution_count": 69,
      "outputs": []
    },
    {
      "cell_type": "code",
      "metadata": {
        "id": "DpNb5mEgeJJ7"
      },
      "source": [
        "T = np.linspace(0.0, 60.0, 10000)"
      ],
      "execution_count": 72,
      "outputs": []
    },
    {
      "cell_type": "code",
      "metadata": {
        "id": "CMVqHtAfeO8R"
      },
      "source": [
        "u = 0.5 \n",
        "p = 3 \n",
        "L_A = np.zeros(len(T))\n",
        "for i in range(1, len(T)):\n",
        "    is_spiking = np.random.poisson(p) > p\n",
        "    L_A[i] = max(L_A[i - 1] + int(is_spiking) * Lincoming_A - Loutcoming_A, 0.0)\n",
        "L_A_d = dict(zip(T, L_A))\n",
        "\n",
        "L_B = np.zeros(len(T))\n",
        "for i in range(1, len(T)):\n",
        "    is_spiking = np.random.uniform(0,1) > u\n",
        "    L_B[i] = max(L_B[i - 1] + int(is_spiking) * Lincoming_B - Loutcoming_B, 0.0)\n",
        "L_B_d = dict(zip(T, L_B))"
      ],
      "execution_count": 73,
      "outputs": []
    },
    {
      "cell_type": "code",
      "metadata": {
        "colab": {
          "base_uri": "https://localhost:8080/",
          "height": 321
        },
        "id": "VZKJD4UxgWOi",
        "outputId": "9a3da593-46ba-4fad-924b-a0f15f368a0c"
      },
      "source": [
        "Vy = odeint(derivatives, Y, T)"
      ],
      "execution_count": 74,
      "outputs": [
        {
          "output_type": "error",
          "ename": "TypeError",
          "evalue": "ignored",
          "traceback": [
            "\u001b[0;31m---------------------------------------------------------------------------\u001b[0m",
            "\u001b[0;31mTypeError\u001b[0m                                 Traceback (most recent call last)",
            "\u001b[0;32m<ipython-input-74-d5da263fc2f5>\u001b[0m in \u001b[0;36m<module>\u001b[0;34m()\u001b[0m\n\u001b[0;32m----> 1\u001b[0;31m \u001b[0mVy\u001b[0m \u001b[0;34m=\u001b[0m \u001b[0modeint\u001b[0m\u001b[0;34m(\u001b[0m\u001b[0mderivatives\u001b[0m\u001b[0;34m,\u001b[0m \u001b[0mY\u001b[0m\u001b[0;34m,\u001b[0m \u001b[0mT\u001b[0m\u001b[0;34m)\u001b[0m\u001b[0;34m\u001b[0m\u001b[0;34m\u001b[0m\u001b[0m\n\u001b[0m",
            "\u001b[0;32m/usr/local/lib/python3.6/dist-packages/scipy/integrate/odepack.py\u001b[0m in \u001b[0;36modeint\u001b[0;34m(func, y0, t, args, Dfun, col_deriv, full_output, ml, mu, rtol, atol, tcrit, h0, hmax, hmin, ixpr, mxstep, mxhnil, mxordn, mxords, printmessg, tfirst)\u001b[0m\n\u001b[1;32m    243\u001b[0m                              \u001b[0mfull_output\u001b[0m\u001b[0;34m,\u001b[0m \u001b[0mrtol\u001b[0m\u001b[0;34m,\u001b[0m \u001b[0matol\u001b[0m\u001b[0;34m,\u001b[0m \u001b[0mtcrit\u001b[0m\u001b[0;34m,\u001b[0m \u001b[0mh0\u001b[0m\u001b[0;34m,\u001b[0m \u001b[0mhmax\u001b[0m\u001b[0;34m,\u001b[0m \u001b[0mhmin\u001b[0m\u001b[0;34m,\u001b[0m\u001b[0;34m\u001b[0m\u001b[0;34m\u001b[0m\u001b[0m\n\u001b[1;32m    244\u001b[0m                              \u001b[0mixpr\u001b[0m\u001b[0;34m,\u001b[0m \u001b[0mmxstep\u001b[0m\u001b[0;34m,\u001b[0m \u001b[0mmxhnil\u001b[0m\u001b[0;34m,\u001b[0m \u001b[0mmxordn\u001b[0m\u001b[0;34m,\u001b[0m \u001b[0mmxords\u001b[0m\u001b[0;34m,\u001b[0m\u001b[0;34m\u001b[0m\u001b[0;34m\u001b[0m\u001b[0m\n\u001b[0;32m--> 245\u001b[0;31m                              int(bool(tfirst)))\n\u001b[0m\u001b[1;32m    246\u001b[0m     \u001b[0;32mif\u001b[0m \u001b[0moutput\u001b[0m\u001b[0;34m[\u001b[0m\u001b[0;34m-\u001b[0m\u001b[0;36m1\u001b[0m\u001b[0;34m]\u001b[0m \u001b[0;34m<\u001b[0m \u001b[0;36m0\u001b[0m\u001b[0;34m:\u001b[0m\u001b[0;34m\u001b[0m\u001b[0;34m\u001b[0m\u001b[0m\n\u001b[1;32m    247\u001b[0m         \u001b[0mwarning_msg\u001b[0m \u001b[0;34m=\u001b[0m \u001b[0m_msgs\u001b[0m\u001b[0;34m[\u001b[0m\u001b[0moutput\u001b[0m\u001b[0;34m[\u001b[0m\u001b[0;34m-\u001b[0m\u001b[0;36m1\u001b[0m\u001b[0;34m]\u001b[0m\u001b[0;34m]\u001b[0m \u001b[0;34m+\u001b[0m \u001b[0;34m\" Run with full_output = 1 to get quantitative information.\"\u001b[0m\u001b[0;34m\u001b[0m\u001b[0;34m\u001b[0m\u001b[0m\n",
            "\u001b[0;32m<ipython-input-70-7abd9ef96c87>\u001b[0m in \u001b[0;36mderivatives\u001b[0;34m(y, t0)\u001b[0m\n\u001b[1;32m     16\u001b[0m \u001b[0;34m\u001b[0m\u001b[0m\n\u001b[1;32m     17\u001b[0m     \u001b[0;31m#Вероятность открытия рецептора:\u001b[0m\u001b[0;34m\u001b[0m\u001b[0;34m\u001b[0m\u001b[0;34m\u001b[0m\u001b[0m\n\u001b[0;32m---> 18\u001b[0;31m     \u001b[0mPbound_A\u001b[0m \u001b[0;34m=\u001b[0m \u001b[0;34m(\u001b[0m\u001b[0;36m1\u001b[0m \u001b[0;34m/\u001b[0m \u001b[0;34m(\u001b[0m\u001b[0;36m1\u001b[0m \u001b[0;34m+\u001b[0m \u001b[0mKA\u001b[0m \u001b[0;34m*\u001b[0m \u001b[0mVA\u001b[0m \u001b[0;34m/\u001b[0m \u001b[0;34m(\u001b[0m\u001b[0mL\u001b[0m\u001b[0;34m(\u001b[0m\u001b[0mt0\u001b[0m\u001b[0;34m,\u001b[0m \u001b[0;34m\"A\"\u001b[0m\u001b[0;34m)\u001b[0m\u001b[0;34m)\u001b[0m\u001b[0;34m)\u001b[0m\u001b[0;34m)\u001b[0m \u001b[0;31m#формула 3\u001b[0m\u001b[0;34m\u001b[0m\u001b[0;34m\u001b[0m\u001b[0m\n\u001b[0m\u001b[1;32m     19\u001b[0m     \u001b[0mPbound_B\u001b[0m \u001b[0;34m=\u001b[0m \u001b[0;34m(\u001b[0m\u001b[0;36m1\u001b[0m \u001b[0;34m/\u001b[0m \u001b[0;34m(\u001b[0m\u001b[0;36m1\u001b[0m \u001b[0;34m+\u001b[0m \u001b[0mKB\u001b[0m \u001b[0;34m*\u001b[0m \u001b[0mVB\u001b[0m \u001b[0;34m/\u001b[0m \u001b[0;34m(\u001b[0m\u001b[0mL\u001b[0m\u001b[0;34m(\u001b[0m\u001b[0mt0\u001b[0m\u001b[0;34m,\u001b[0m \u001b[0;34m\"B\"\u001b[0m\u001b[0;34m)\u001b[0m\u001b[0;34m)\u001b[0m\u001b[0;34m)\u001b[0m\u001b[0;34m)\u001b[0m \u001b[0;31m#формула 3\u001b[0m\u001b[0;34m\u001b[0m\u001b[0;34m\u001b[0m\u001b[0m\n\u001b[1;32m     20\u001b[0m \u001b[0;34m\u001b[0m\u001b[0m\n",
            "\u001b[0;31mTypeError\u001b[0m: unsupported operand type(s) for /: 'int' and 'NoneType'"
          ]
        }
      ]
    },
    {
      "cell_type": "markdown",
      "metadata": {
        "id": "w1Fftp4_VgOz"
      },
      "source": [
        "**3. Анализ**\n",
        "\n",
        "---\n",
        "Построить графики для ситуации, когда котенок выживет:\n"
      ]
    },
    {
      "cell_type": "markdown",
      "metadata": {
        "id": "MrFJO11oW0ZD"
      },
      "source": [
        "1. Зависимость Vm от времени, зависимость n,h,m от времени, зависимость Isynaptic от времени. Сделайте вывод о зависимости амплитуды и частоты Isynaptic и амплитуды и частоты Vm.\n",
        " "
      ]
    },
    {
      "cell_type": "markdown",
      "metadata": {
        "id": "hdRJPGTZX__G"
      },
      "source": [
        "2. Для каждого промежутка симуляции постройте графики фазовых пространств Vm(t) к n(t), Vm(t) к m(t), Vm(t) к h(t) (3 штуки). Для каждого ли промежутка симуляции существуют предельные циклы каждого фазового пространства?"
      ]
    },
    {
      "cell_type": "markdown",
      "metadata": {
        "id": "X5f_FvouZFSg"
      },
      "source": [
        "3. Динамика токов по калию, натрию, хлору. Насколько велика роль калия в этой модели?"
      ]
    },
    {
      "cell_type": "code",
      "metadata": {
        "id": "PNwfSTADodsk"
      },
      "source": [
        "fig, (ax1, ax2, ax3) = plt.subplots(3,1, figsize = (20,15))\n",
        "ax1.plot(T, Vy[:, 0])\n",
        "ax1.set_xlabel('Time (ms)')\n",
        "ax1.set_ylabel('Vm (mV)')\n",
        "ax1.set_title('Зависимость Vm от времени')\n",
        "plt.grid()\n",
        "\n",
        "ax2.plot(T, Vy[:, 1], label = 'n')\n",
        "ax2.plot(T, Vy[:, 2], label = 'm')\n",
        "ax2.plot(T, Vy[:, 3], label = 'h')\n",
        "ax2.legend()\n",
        "ax2.set_xlabel('Time (ms)')\n",
        "ax2.set_ylabel('n, m, h')\n",
        "ax2.set_title('Зависимость n, h, m от времени')\n",
        "plt.grid()\n",
        "\n",
        "ax3.plot(T, Idv)\n",
        "ax3.set_xlabel('Time (ms)')\n",
        "ax3.set_ylabel(r'Current density (uA/$mm^2$)')\n",
        "ax3.set_title('Зависимость I от времени')\n",
        "plt.grid()"
      ],
      "execution_count": null,
      "outputs": []
    },
    {
      "cell_type": "markdown",
      "metadata": {
        "id": "C47exc5oZSjx"
      },
      "source": [
        "**4. Результат**\n",
        "\n",
        "---\n",
        "\n"
      ]
    }
  ]
}